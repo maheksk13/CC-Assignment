{
 "cells": [
  {
   "cell_type": "code",
   "execution_count": 55,
   "id": "7a1e3ee8-e1a3-452e-b435-a198b7e3f574",
   "metadata": {},
   "outputs": [],
   "source": [
    "import joblib"
   ]
  },
  {
   "cell_type": "code",
   "execution_count": 56,
   "id": "2049e0c2-4188-4654-a624-6af2e018bc0e",
   "metadata": {},
   "outputs": [],
   "source": [
    "model = joblib.load('heart_disease_model.pkl')"
   ]
  },
  {
   "cell_type": "code",
   "execution_count": 57,
   "id": "ecc3cef4-c87d-4d4e-9b72-dd33f2e5cec6",
   "metadata": {},
   "outputs": [],
   "source": [
    "input_data = {\n",
    "    \"Age\": 60,  # Older age is a risk factor\n",
    "    \"Chest Pain Type\": 2,  # Non-anginal pain (higher likelihood of heart disease)\n",
    "    \"Resting Blood Pressure (mm Hg)\": 190,  # High blood pressure is a risk factor\n",
    "    \"Cholesterol Level (mg/dL)\": 400,  # High cholesterol is a strong risk factor\n",
    "    \"Exercise-Induced Angina (1: Yes, 0: No)\": 1,  # Exercise-induced angina indicates more severe heart problems\n",
    "    \"ST Depression Induced by Exercise\": 8.00,  # Higher ST depression usually points to heart disease\n",
    "    \"Maximum Heart Rate Achieved\": 245,  # Lower heart rate achieved during exercise could indicate a cardiovascular issue\n",
    "    \"Number of Major Vessels Colored by Fluoroscopy\": 2,  # More vessels affected\n",
    "    \"Thalassemia (1: Normal, 2: Fixed Defect, 3: Reversible Defect)\": 3  # Reversible defect is linked with higher heart disease risk\n",
    "}"
   ]
  },
  {
   "cell_type": "code",
   "execution_count": 58,
   "id": "f80c92d1-681b-44fc-8321-f56a8e0ca8da",
   "metadata": {},
   "outputs": [
    {
     "name": "stdout",
     "output_type": "stream",
     "text": [
      "Input Array Shape: (1, 9)\n",
      "Predicted Probabilities: [[0.87522619 0.12477381]]\n",
      "Shape of Predicted Probabilities: (1, 2)\n",
      "Probability of having heart disease: 12.48%\n"
     ]
    },
    {
     "name": "stderr",
     "output_type": "stream",
     "text": [
      "C:\\phthon3.11\\Lib\\site-packages\\sklearn\\base.py:493: UserWarning: X does not have valid feature names, but StandardScaler was fitted with feature names\n",
      "  warnings.warn(\n"
     ]
    }
   ],
   "source": [
    "import numpy as np\n",
    "\n",
    "input_values = list(input_data.values())  # List of input feature values\n",
    "input_array = np.array(input_values).reshape(1, -1)  # Reshape to (1, num_features)\n",
    "\n",
    "# Check the shape of input_array\n",
    "print(\"Input Array Shape:\", input_array.shape)\n",
    "\n",
    "# Get predicted probabilities\n",
    "y_pred_prob = model.predict_proba(input_array)\n",
    "\n",
    "# Debugging: Print the predicted probabilities\n",
    "print(\"Predicted Probabilities:\", y_pred_prob)\n",
    "print(\"Shape of Predicted Probabilities:\", y_pred_prob.shape)\n",
    "\n",
    "# Get the probability of class 1 (heart disease)\n",
    "probability_of_disease = y_pred_prob[0, 1]\n",
    "\n",
    "print(f\"Probability of having heart disease: {probability_of_disease * 100:.2f}%\")"
   ]
  },
  {
   "cell_type": "code",
   "execution_count": 59,
   "id": "5b4bad93-e26a-4e32-a5e1-c6b1e1223946",
   "metadata": {},
   "outputs": [
    {
     "name": "stdout",
     "output_type": "stream",
     "text": [
      "Probability of having heart disease: 12.48%\n"
     ]
    },
    {
     "name": "stderr",
     "output_type": "stream",
     "text": [
      "C:\\phthon3.11\\Lib\\site-packages\\sklearn\\base.py:493: UserWarning: X does not have valid feature names, but StandardScaler was fitted with feature names\n",
      "  warnings.warn(\n"
     ]
    }
   ],
   "source": [
    "import numpy as np\n",
    "\n",
    "input_values = list(input_data.values())\n",
    "\n",
    "input_array = np.array(input_values).reshape(1, -1)\n",
    "\n",
    "y_pred_prob = model.predict_proba(input_array)[0, 1]\n",
    "print(f\"Probability of having heart disease: {y_pred_prob * 100:.2f}%\")"
   ]
  },
  {
   "cell_type": "code",
   "execution_count": 60,
   "id": "b17379cd-75ff-4597-b449-24e334779858",
   "metadata": {},
   "outputs": [
    {
     "name": "stdout",
     "output_type": "stream",
     "text": [
      "Adjusted Prediction (Threshold 0.7): No Heart Disease\n"
     ]
    }
   ],
   "source": [
    "threshold = 0.7\n",
    "adjusted_pred = (y_pred_prob >= threshold).astype(int)\n",
    "print(f\"Adjusted Prediction (Threshold {threshold}): {'Heart Disease' if adjusted_pred == 1 else 'No Heart Disease'}\")"
   ]
  },
  {
   "cell_type": "code",
   "execution_count": 61,
   "id": "0c07579b-3e53-43ba-9d69-3d22250242fd",
   "metadata": {},
   "outputs": [
    {
     "name": "stdout",
     "output_type": "stream",
     "text": [
      "Risk Category: Low Risk\n"
     ]
    }
   ],
   "source": [
    "if y_pred_prob > 0.8:\n",
    "    risk_category = \"High Risk\"\n",
    "elif y_pred_prob > 0.5:\n",
    "    risk_category = \"Medium Risk\"\n",
    "else:\n",
    "    risk_category = \"Low Risk\"\n",
    "\n",
    "print(f\"Risk Category: {risk_category}\")"
   ]
  },
  {
   "cell_type": "code",
   "execution_count": null,
   "id": "a732364f-d5f6-4b10-8fbc-400b3d520732",
   "metadata": {},
   "outputs": [],
   "source": []
  }
 ],
 "metadata": {
  "kernelspec": {
   "display_name": "Python 3 (ipykernel)",
   "language": "python",
   "name": "python3"
  },
  "language_info": {
   "codemirror_mode": {
    "name": "ipython",
    "version": 3
   },
   "file_extension": ".py",
   "mimetype": "text/x-python",
   "name": "python",
   "nbconvert_exporter": "python",
   "pygments_lexer": "ipython3",
   "version": "3.11.0"
  }
 },
 "nbformat": 4,
 "nbformat_minor": 5
}
